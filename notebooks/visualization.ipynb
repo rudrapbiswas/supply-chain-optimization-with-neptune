# Jupyter notebook for visualizing supply chain data

from gremlin_python.driver import client, serializer
import networkx as nx
import matplotlib.pyplot as plt

# Neptune connection details
neptune_endpoint = 'your-neptune-endpoint'
neptune_port = '8182'
neptune_ssl = True

# Connect to Neptune
neptune_client = client.Client(f'wss://{neptune_endpoint}:{neptune_port}/gremlin', 'g',
                               message_serializer=serializer.GraphSONSerializersV2d0())

# Function to fetch data from Neptune
def fetch_data(query):
    result = neptune_client.submit(query).all().result()
    return result

# Example query for fetching supply chain data
query = "g.V().hasLabel('supplier').outE('supplies').inV().path().limit(10)"
data = fetch_data(query)

# Visualize the graph using NetworkX
G = nx.Graph()
for path in data:
    nodes = [node['properties']['name'][0]['value'] for node in path['objects']]
    edges = [(nodes[i], nodes[i+1]) for i in range(len(nodes)-1)]
    G.add_edges_from(edges)

# Draw the graph
pos = nx.spring_layout(G)
nx.draw(G, pos, with_labels=True, node_color='skyblue', node_size=1500, edge_color='black', linewidths=1, font_size=10)
plt.show()
